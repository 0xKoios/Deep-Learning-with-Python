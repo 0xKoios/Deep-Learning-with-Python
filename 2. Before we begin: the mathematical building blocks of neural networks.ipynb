{
  "nbformat": 4,
  "nbformat_minor": 0,
  "metadata": {
    "colab": {
      "name": "2. Before we begin: the mathematical building blocks of neural networks.ipynb",
      "provenance": [],
      "collapsed_sections": [],
      "authorship_tag": "ABX9TyNBelNdwh54D0C1V9m4Jhja",
      "include_colab_link": true
    },
    "kernelspec": {
      "name": "python3",
      "display_name": "Python 3"
    }
  },
  "cells": [
    {
      "cell_type": "markdown",
      "metadata": {
        "id": "view-in-github",
        "colab_type": "text"
      },
      "source": [
        "<a href=\"https://colab.research.google.com/github/Jetsukda/Deep-Learning-with-Python/blob/main/2.%20Before%20we%20begin%3A%20the%20mathematical%20building%20blocks%20of%20neural%20networks.ipynb\" target=\"_parent\"><img src=\"https://colab.research.google.com/assets/colab-badge.svg\" alt=\"Open In Colab\"/></a>"
      ]
    },
    {
      "cell_type": "markdown",
      "metadata": {
        "id": "T-wKZ8pa4JI2"
      },
      "source": [
        "# 2.1 A first look at a neural network\n",
        "\n",
        ">Note on **classes** and **labels**\n",
        "\n",
        "- In machine learning, a **category** in a classification problem is called a ***class***.\n",
        "- **Data points** are called ***samples***.\n",
        "- The **class associated** with a  specific sample is called a ***label***.\n",
        "\n",
        "Let's look at a concrete example of neural network that uses the Python library Keras to learn to classify handwritten digits. Unless you already have experience with Keras or similar libaries, you won't understand everything about this first example tight away."
      ]
    },
    {
      "cell_type": "markdown",
      "metadata": {
        "id": "lCsTvOq55M-h"
      },
      "source": [
        "**Loading the MNIST dataset in Keras**"
      ]
    },
    {
      "cell_type": "code",
      "metadata": {
        "id": "VI5aL30W33gI"
      },
      "source": [
        "from tensorflow.keras.datasets import mnist\n",
        "\n",
        "(train_images, train_labels), (test_images, test_labels) = mnist.load_data()"
      ],
      "execution_count": null,
      "outputs": []
    },
    {
      "cell_type": "markdown",
      "metadata": {
        "id": "WD75waSZ54_O"
      },
      "source": [
        "\n",
        "- `train_images` and `train_labels` form **training set**\n",
        "- `test_images` and `test_images` form **test set**\n",
        "- The images are encoded as NumPy arrays, and the labels are an array of digits, ranging from 0 to 9.\n",
        "- The images and labels have one-to-one correspondence."
      ]
    },
    {
      "cell_type": "code",
      "metadata": {
        "id": "ZbdoXApU5jDh",
        "outputId": "ea387720-ec48-4d16-ab18-ff7fc9e41d17",
        "colab": {
          "base_uri": "https://localhost:8080/",
          "height": 34
        }
      },
      "source": [
        "# (number of image, rows, cols) -> row x col = images size = 28x28 Pixel.\n",
        "train_images.shape"
      ],
      "execution_count": null,
      "outputs": [
        {
          "output_type": "execute_result",
          "data": {
            "text/plain": [
              "(60000, 28, 28)"
            ]
          },
          "metadata": {
            "tags": []
          },
          "execution_count": 17
        }
      ]
    },
    {
      "cell_type": "code",
      "metadata": {
        "id": "4c5Q3oEH6YMb",
        "outputId": "91b8367c-474e-462e-fccd-27ab1157dc63",
        "colab": {
          "base_uri": "https://localhost:8080/",
          "height": 34
        }
      },
      "source": [
        "# 60,000 images.\n",
        "len(train_images)"
      ],
      "execution_count": null,
      "outputs": [
        {
          "output_type": "execute_result",
          "data": {
            "text/plain": [
              "60000"
            ]
          },
          "metadata": {
            "tags": []
          },
          "execution_count": 18
        }
      ]
    },
    {
      "cell_type": "code",
      "metadata": {
        "id": "DUeQMSFg6aut",
        "outputId": "783da707-9c54-4b0b-bb8e-982a4202458d",
        "colab": {
          "base_uri": "https://localhost:8080/",
          "height": 34
        }
      },
      "source": [
        "# labels range from 0 to 9.\n",
        "train_labels"
      ],
      "execution_count": null,
      "outputs": [
        {
          "output_type": "execute_result",
          "data": {
            "text/plain": [
              "array([5, 0, 4, ..., 5, 6, 8], dtype=uint8)"
            ]
          },
          "metadata": {
            "tags": []
          },
          "execution_count": 19
        }
      ]
    },
    {
      "cell_type": "markdown",
      "metadata": {
        "id": "qoxbVN3B7oXZ"
      },
      "source": [
        "And here's the test data"
      ]
    },
    {
      "cell_type": "code",
      "metadata": {
        "id": "f3p2kOFM6bzL",
        "outputId": "1a3b7918-4179-4f4a-89b5-671bedb256e7",
        "colab": {
          "base_uri": "https://localhost:8080/",
          "height": 34
        }
      },
      "source": [
        "# (number of image, rows, cols) -> row x col = images size = 28x28 Pixel.\n",
        "test_images.shape"
      ],
      "execution_count": null,
      "outputs": [
        {
          "output_type": "execute_result",
          "data": {
            "text/plain": [
              "(10000, 28, 28)"
            ]
          },
          "metadata": {
            "tags": []
          },
          "execution_count": 20
        }
      ]
    },
    {
      "cell_type": "code",
      "metadata": {
        "id": "sCdYDsp67xkI",
        "outputId": "11e76732-25ba-4ae5-cb42-e68e706b929e",
        "colab": {
          "base_uri": "https://localhost:8080/",
          "height": 34
        }
      },
      "source": [
        "# 10,000 images.\n",
        "len(test_images)"
      ],
      "execution_count": null,
      "outputs": [
        {
          "output_type": "execute_result",
          "data": {
            "text/plain": [
              "10000"
            ]
          },
          "metadata": {
            "tags": []
          },
          "execution_count": 21
        }
      ]
    },
    {
      "cell_type": "code",
      "metadata": {
        "id": "up95EPaM72CN",
        "outputId": "667e5b0c-e296-4172-9c87-c565a4a90f2b",
        "colab": {
          "base_uri": "https://localhost:8080/",
          "height": 34
        }
      },
      "source": [
        "# labels range from 0 to 9.\n",
        "test_labels"
      ],
      "execution_count": null,
      "outputs": [
        {
          "output_type": "execute_result",
          "data": {
            "text/plain": [
              "array([7, 2, 1, ..., 4, 5, 6], dtype=uint8)"
            ]
          },
          "metadata": {
            "tags": []
          },
          "execution_count": 22
        }
      ]
    },
    {
      "cell_type": "markdown",
      "metadata": {
        "id": "cz_6Guvs8IYr"
      },
      "source": [
        "**The workflow will be as follows**:\n",
        "- First, we'll feed the neural network the training data, `train_images`, `train_labels`.\n",
        "- The network will then learn to associate images and labels.\n",
        "- Finally, we'll ask the network to product predictions for `test_images`, and we'll verify whether these predictions match the labels from `test_labels`."
      ]
    },
    {
      "cell_type": "markdown",
      "metadata": {
        "id": "_V8qdTNb83bZ"
      },
      "source": [
        "**The network architecture**"
      ]
    },
    {
      "cell_type": "code",
      "metadata": {
        "id": "A6_-xg8Q74fg"
      },
      "source": [
        "from tensorflow.keras import models\n",
        "from tensorflow.keras import layers"
      ],
      "execution_count": null,
      "outputs": []
    },
    {
      "cell_type": "code",
      "metadata": {
        "id": "ekV63uXR9RTI"
      },
      "source": [
        "network = models.Sequential()\n",
        "network.add(layers.Dense(512, activation=\"relu\", input_shape=(28*28,)))\n",
        "network.add(layers.Dense(10, activation=\"softmax\"))"
      ],
      "execution_count": null,
      "outputs": []
    },
    {
      "cell_type": "markdown",
      "metadata": {
        "id": "enNeVqNp9kav"
      },
      "source": [
        "The core building block of neural network is the `layer`, **data-processing** module that you can think of as a **filter for data**. Some data goes in, and it comes out in more useful form.\n",
        "\n",
        "Specifically, layers exteact **representations** out of the data feed into them hopefully from, representations that are more meaningful for the problem as hand.\n",
        "\n",
        "Most of deep learning consists of chaining together simple layers that will implement a form of progressive **data distillation**.\n",
        "\n",
        "A deep learning model is like a sieve for data processing, made of succession of increasingly refined data filters - the layers.\n",
        "- **Dense Layers**: Which are densely connected (also caleed **fully connected**) neural layers.\n",
        "    - The last layer is **10-way softmax** layer, which means it will return an array of 10 probability scores (summing to 1).\n",
        "\n",
        "        \\begin{equation}\n",
        "        \\sigma(z)_i  = \\frac{exp(z_i)}{\\sum_{j}^{ }exp(z_j))}\n",
        "        \\end{equation}\n",
        "        <p align=\"center\">\n",
        "        <img src=\"https://upload.wikimedia.org/wikipedia/commons/thumb/8/88/Logistic-curve.svg/1200px-Logistic-curve.svg.png\" width=\"700\" >\n",
        "        <figcaption align=\"center\">Fig1. Softmax</figcaption>\n",
        "        </p>\n",
        "        \n",
        "    - The last layer is **10-way softmax** layer, which means it will return an array of 10 probability scores (summing to 1).\n",
        "- To make the network ready for training, we need to pick three more things, as part of the **compilation** step:\n",
        "    - **Loss function** - How the network will be able to measure its performance on the training data, and thus how it will be able to steer itself in thr right direction.\n",
        "    - **Optimizer** - The mechanism through which the network will update itself based on the data it sees ans its **loss function**\n",
        "    - **Metrics to monitor during training and testing** - Here, we'll only care about accuracy(the fraction of the images that were correctly classified).\n"
      ]
    },
    {
      "cell_type": "markdown",
      "metadata": {
        "id": "WpWki2xASNNN"
      },
      "source": [
        "**The compilation step**"
      ]
    },
    {
      "cell_type": "code",
      "metadata": {
        "id": "CnO7x6KC9jdo"
      },
      "source": [
        "network.compile(optimizer=\"rmsprop\", loss=\"categorical_crossentropy\", metrics=[\"accuracy\"])"
      ],
      "execution_count": null,
      "outputs": []
    },
    {
      "cell_type": "markdown",
      "metadata": {
        "id": "Kw33MxUCSeOj"
      },
      "source": [
        "**Preparing the image data**"
      ]
    },
    {
      "cell_type": "code",
      "metadata": {
        "id": "WsMY19bSSctt"
      },
      "source": [
        "train_images = train_images.reshape(60000, 28*28)\n",
        "train_images = train_images.astype(\"float32\")/255\n",
        "\n",
        "test_images = test_images.reshape(10000, 28*28)\n",
        "test_images = test_images.astype(\"float32\")/255"
      ],
      "execution_count": null,
      "outputs": []
    },
    {
      "cell_type": "markdown",
      "metadata": {
        "id": "h0-uowYZTMFw"
      },
      "source": [
        "*We also need to categorically encode the labels, a step that's explained in chapter 3."
      ]
    },
    {
      "cell_type": "markdown",
      "metadata": {
        "id": "14p5LB9CTZkp"
      },
      "source": [
        "**Preparing the labels**"
      ]
    },
    {
      "cell_type": "code",
      "metadata": {
        "id": "IjwHz0TQTZJR"
      },
      "source": [
        "from tensorflow.keras.utils import to_categorical"
      ],
      "execution_count": null,
      "outputs": []
    },
    {
      "cell_type": "code",
      "metadata": {
        "id": "2yZBlqvdTpaO"
      },
      "source": [
        "train_labels = to_categorical(train_labels)\n",
        "test_labels = to_categorical(test_labels)"
      ],
      "execution_count": null,
      "outputs": []
    },
    {
      "cell_type": "markdown",
      "metadata": {
        "id": "g79CCIdOTx5e"
      },
      "source": [
        "We're now ready to train the network, which in Keras is done to the network's fit method - we fit the model to its training data"
      ]
    },
    {
      "cell_type": "code",
      "metadata": {
        "id": "fl5UoZrjTxIH",
        "outputId": "117a1c1b-c243-4e9f-8f14-72e9200cfcb6",
        "colab": {
          "base_uri": "https://localhost:8080/",
          "height": 204
        }
      },
      "source": [
        "network.fit(train_images, train_labels, epochs=5, batch_size=128)"
      ],
      "execution_count": 29,
      "outputs": [
        {
          "output_type": "stream",
          "text": [
            "Epoch 1/5\n",
            "469/469 [==============================] - 5s 10ms/step - loss: 0.2603 - accuracy: 0.9244\n",
            "Epoch 2/5\n",
            "469/469 [==============================] - 4s 9ms/step - loss: 0.1049 - accuracy: 0.9685\n",
            "Epoch 3/5\n",
            "469/469 [==============================] - 4s 9ms/step - loss: 0.0677 - accuracy: 0.9802\n",
            "Epoch 4/5\n",
            "469/469 [==============================] - 4s 9ms/step - loss: 0.0498 - accuracy: 0.9845\n",
            "Epoch 5/5\n",
            "469/469 [==============================] - 4s 9ms/step - loss: 0.0378 - accuracy: 0.9887\n"
          ],
          "name": "stdout"
        },
        {
          "output_type": "execute_result",
          "data": {
            "text/plain": [
              "<tensorflow.python.keras.callbacks.History at 0x7f7fa25e4a58>"
            ]
          },
          "metadata": {
            "tags": []
          },
          "execution_count": 29
        }
      ]
    },
    {
      "cell_type": "markdown",
      "metadata": {
        "id": "tldp1Iuac92i"
      },
      "source": [
        "# 2.2 Data representations for neural networks\n",
        "\n",
        "- Multidimensional NumPy arrays(**`tensors`**): Container for numbers.\n",
        "- In general, all current machine learning system use tensors as their **basic data structure**.\n",
        "- Tensors are a generalization of matrices to an arbitrary number of dimensions\n",
        "    - A **dimension** is often called an **axis**"
      ]
    },
    {
      "cell_type": "markdown",
      "metadata": {
        "id": "6zO-fmy0dyHa"
      },
      "source": [
        "## 2.2.1 Scalars (0D Tensors)\n",
        "- A tensor that contains only number.\n",
        "- In NumPy, a `float32` or `float64` number is a scalar tensor (or scalar array)\n",
        "- a scalar tensor has 0 axes (ndim == 0).\n",
        "- The number of axes of a tensor is also called its rank."
      ]
    },
    {
      "cell_type": "code",
      "metadata": {
        "id": "TFrt6kbnc6zz"
      },
      "source": [
        "import numpy as np"
      ],
      "execution_count": 30,
      "outputs": []
    },
    {
      "cell_type": "code",
      "metadata": {
        "id": "13b3KVC4eFSd"
      },
      "source": [
        "# Here's a NumPy scalar\n",
        "x = np.array(12)"
      ],
      "execution_count": 31,
      "outputs": []
    },
    {
      "cell_type": "code",
      "metadata": {
        "id": "f9UirQU2eIhh",
        "outputId": "b242fcfa-3f35-4d04-c3ec-35a51cd785a9",
        "colab": {
          "base_uri": "https://localhost:8080/",
          "height": 34
        }
      },
      "source": [
        "x"
      ],
      "execution_count": 32,
      "outputs": [
        {
          "output_type": "execute_result",
          "data": {
            "text/plain": [
              "array(12)"
            ]
          },
          "metadata": {
            "tags": []
          },
          "execution_count": 32
        }
      ]
    },
    {
      "cell_type": "code",
      "metadata": {
        "id": "Pt-en3YGeJ6_",
        "outputId": "59bef58a-c57c-4c65-f72f-4f3988bc6bf7",
        "colab": {
          "base_uri": "https://localhost:8080/",
          "height": 34
        }
      },
      "source": [
        "x.ndim"
      ],
      "execution_count": 33,
      "outputs": [
        {
          "output_type": "execute_result",
          "data": {
            "text/plain": [
              "0"
            ]
          },
          "metadata": {
            "tags": []
          },
          "execution_count": 33
        }
      ]
    },
    {
      "cell_type": "markdown",
      "metadata": {
        "id": "xI-qNJ2cemL_"
      },
      "source": [
        "## 2.2.2 Vector (1D tensors)\n",
        "\n",
        "- An array of numbers iss caleed a ***vector*** or ***1D tensor***\n",
        "- have one axis"
      ]
    },
    {
      "cell_type": "code",
      "metadata": {
        "id": "HCc8pSGDeM4e"
      },
      "source": [
        "x = np.array([12, 3, 6, 14])"
      ],
      "execution_count": 34,
      "outputs": []
    },
    {
      "cell_type": "code",
      "metadata": {
        "id": "jXPmF1anfJOE",
        "outputId": "0e905401-62b0-4a02-dece-4f40a4f46828",
        "colab": {
          "base_uri": "https://localhost:8080/",
          "height": 34
        }
      },
      "source": [
        "x"
      ],
      "execution_count": 35,
      "outputs": [
        {
          "output_type": "execute_result",
          "data": {
            "text/plain": [
              "array([12,  3,  6, 14])"
            ]
          },
          "metadata": {
            "tags": []
          },
          "execution_count": 35
        }
      ]
    },
    {
      "cell_type": "code",
      "metadata": {
        "id": "4cyOPwYSfJux",
        "outputId": "e817710b-966c-4ac4-80ca-e9a6c926b5ec",
        "colab": {
          "base_uri": "https://localhost:8080/",
          "height": 34
        }
      },
      "source": [
        "x.ndim"
      ],
      "execution_count": 36,
      "outputs": [
        {
          "output_type": "execute_result",
          "data": {
            "text/plain": [
              "1"
            ]
          },
          "metadata": {
            "tags": []
          },
          "execution_count": 36
        }
      ]
    },
    {
      "cell_type": "markdown",
      "metadata": {
        "id": "JrL2AErJfPfM"
      },
      "source": [
        "- This vector has five entries and so id called a ***5-dimensional vertor***.\n",
        "- Dont' confuse a **5D vector** with a **5D tensor**!\n",
        "    - 5D vector has only one axis and have five dimensions along its axis\n",
        "    - 5D tensor has five axis (and may have any number of dimensions along each axis).\n",
        "- **Dimensional** can denote either **the number of entries along a spaceific axis** or **the number of axes in tensor**"
      ]
    },
    {
      "cell_type": "markdown",
      "metadata": {
        "id": "rT-PAeY4iljH"
      },
      "source": [
        "## 2.2.3 Matrices (2D tensors)"
      ]
    },
    {
      "cell_type": "code",
      "metadata": {
        "id": "k5jUBTVmfKew"
      },
      "source": [
        ""
      ],
      "execution_count": null,
      "outputs": []
    }
  ]
}