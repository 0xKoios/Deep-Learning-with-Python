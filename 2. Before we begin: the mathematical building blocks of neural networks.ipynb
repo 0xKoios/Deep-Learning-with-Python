{
  "nbformat": 4,
  "nbformat_minor": 0,
  "metadata": {
    "colab": {
      "name": "2. Before we begin: the mathematical building blocks of neural networks.ipynb",
      "provenance": [],
      "collapsed_sections": [],
      "authorship_tag": "ABX9TyNByG8FtjWp+A77bSGLG6gZ",
      "include_colab_link": true
    },
    "kernelspec": {
      "name": "python3",
      "display_name": "Python 3"
    }
  },
  "cells": [
    {
      "cell_type": "markdown",
      "metadata": {
        "id": "view-in-github",
        "colab_type": "text"
      },
      "source": [
        "<a href=\"https://colab.research.google.com/github/Jetsukda/Deep-Learning-with-Python/blob/main/2.%20Before%20we%20begin%3A%20the%20mathematical%20building%20blocks%20of%20neural%20networks.ipynb\" target=\"_parent\"><img src=\"https://colab.research.google.com/assets/colab-badge.svg\" alt=\"Open In Colab\"/></a>"
      ]
    },
    {
      "cell_type": "markdown",
      "metadata": {
        "id": "T-wKZ8pa4JI2"
      },
      "source": [
        "# 2.1 A first look at a neural network\n",
        "\n",
        ">Note on **classes** and **labels**\n",
        "\n",
        "- In machine learning, a **category** in a classification problem is called a ***class***.\n",
        "- **Data points** are called ***samples***.\n",
        "- The **class associated** with a  specific sample is called a ***label***.\n",
        "\n",
        "Let's look at a concrete example of neural network that uses the Python library Keras to learn to classify handwritten digits. Unless you already have experience with Keras or similar libaries, you won't understand everything about this first example tight away."
      ]
    },
    {
      "cell_type": "markdown",
      "metadata": {
        "id": "lCsTvOq55M-h"
      },
      "source": [
        "> **Loading the MNIST dataset in Keras**"
      ]
    },
    {
      "cell_type": "code",
      "metadata": {
        "id": "VI5aL30W33gI",
        "outputId": "ce2fe42f-9538-4dac-d236-9bfb2d700759",
        "colab": {
          "base_uri": "https://localhost:8080/",
          "height": 51
        }
      },
      "source": [
        "from tensorflow.keras.datasets import mnist\n",
        "\n",
        "(train_images, train_labels), (test_images, test_labels) = mnist.load_data()"
      ],
      "execution_count": 1,
      "outputs": [
        {
          "output_type": "stream",
          "text": [
            "Downloading data from https://storage.googleapis.com/tensorflow/tf-keras-datasets/mnist.npz\n",
            "11493376/11490434 [==============================] - 0s 0us/step\n"
          ],
          "name": "stdout"
        }
      ]
    },
    {
      "cell_type": "markdown",
      "metadata": {
        "id": "WD75waSZ54_O"
      },
      "source": [
        "\n",
        "- `train_images` and `train_labels` form **training set**\n",
        "- `test_images` and `test_images` form **test set**\n",
        "- The images are encoded as NumPy arrays, and the labels are an array of digits, ranging from 0 to 9.\n",
        "- The images and labels have one-to-one correspondence."
      ]
    },
    {
      "cell_type": "code",
      "metadata": {
        "id": "ZbdoXApU5jDh",
        "outputId": "e4b767e6-b552-45f0-b5a9-910f9e9afcf9",
        "colab": {
          "base_uri": "https://localhost:8080/",
          "height": 34
        }
      },
      "source": [
        "# (number of image, rows, cols) -> row x col = images size = 28x28 Pixel.\n",
        "train_images.shape"
      ],
      "execution_count": 2,
      "outputs": [
        {
          "output_type": "execute_result",
          "data": {
            "text/plain": [
              "(60000, 28, 28)"
            ]
          },
          "metadata": {
            "tags": []
          },
          "execution_count": 2
        }
      ]
    },
    {
      "cell_type": "code",
      "metadata": {
        "id": "4c5Q3oEH6YMb",
        "outputId": "a9da3d73-f4cf-4c11-c360-2d0e64d55fe8",
        "colab": {
          "base_uri": "https://localhost:8080/",
          "height": 34
        }
      },
      "source": [
        "# 60,000 images.\n",
        "len(train_images)"
      ],
      "execution_count": 3,
      "outputs": [
        {
          "output_type": "execute_result",
          "data": {
            "text/plain": [
              "60000"
            ]
          },
          "metadata": {
            "tags": []
          },
          "execution_count": 3
        }
      ]
    },
    {
      "cell_type": "code",
      "metadata": {
        "id": "DUeQMSFg6aut",
        "outputId": "2efeaed1-1a5a-4ca9-976a-eb685e279108",
        "colab": {
          "base_uri": "https://localhost:8080/",
          "height": 34
        }
      },
      "source": [
        "# labels range from 0 to 9.\n",
        "train_labels"
      ],
      "execution_count": 4,
      "outputs": [
        {
          "output_type": "execute_result",
          "data": {
            "text/plain": [
              "array([5, 0, 4, ..., 5, 6, 8], dtype=uint8)"
            ]
          },
          "metadata": {
            "tags": []
          },
          "execution_count": 4
        }
      ]
    },
    {
      "cell_type": "markdown",
      "metadata": {
        "id": "qoxbVN3B7oXZ"
      },
      "source": [
        "And here's the test data"
      ]
    },
    {
      "cell_type": "code",
      "metadata": {
        "id": "f3p2kOFM6bzL",
        "outputId": "337097c4-eca4-4d5a-fe9d-12ee0ddc5921",
        "colab": {
          "base_uri": "https://localhost:8080/",
          "height": 34
        }
      },
      "source": [
        "# (number of image, rows, cols) -> row x col = images size = 28x28 Pixel.\n",
        "test_images.shape"
      ],
      "execution_count": 5,
      "outputs": [
        {
          "output_type": "execute_result",
          "data": {
            "text/plain": [
              "(10000, 28, 28)"
            ]
          },
          "metadata": {
            "tags": []
          },
          "execution_count": 5
        }
      ]
    },
    {
      "cell_type": "code",
      "metadata": {
        "id": "sCdYDsp67xkI",
        "outputId": "c56061cd-5b8e-4699-8ea0-1c7ef2d838c4",
        "colab": {
          "base_uri": "https://localhost:8080/",
          "height": 34
        }
      },
      "source": [
        "# 10,000 images.\n",
        "len(test_images)"
      ],
      "execution_count": 6,
      "outputs": [
        {
          "output_type": "execute_result",
          "data": {
            "text/plain": [
              "10000"
            ]
          },
          "metadata": {
            "tags": []
          },
          "execution_count": 6
        }
      ]
    },
    {
      "cell_type": "code",
      "metadata": {
        "id": "up95EPaM72CN",
        "outputId": "be89e764-b811-4047-daa1-5fdc61c290cc",
        "colab": {
          "base_uri": "https://localhost:8080/",
          "height": 34
        }
      },
      "source": [
        "# labels range from 0 to 9.\n",
        "test_labels"
      ],
      "execution_count": 7,
      "outputs": [
        {
          "output_type": "execute_result",
          "data": {
            "text/plain": [
              "array([7, 2, 1, ..., 4, 5, 6], dtype=uint8)"
            ]
          },
          "metadata": {
            "tags": []
          },
          "execution_count": 7
        }
      ]
    },
    {
      "cell_type": "markdown",
      "metadata": {
        "id": "cz_6Guvs8IYr"
      },
      "source": [
        "> **The workflow will be as follows**:\n",
        "- First, we'll feed the neural network the training data, `train_images`, `train_labels`.\n",
        "- The network will then learn to associate images and labels.\n",
        "- Finally, we'll ask the network to product predictions for `test_images`, and we'll verify whether these predictions match the labels from `test_labels`."
      ]
    },
    {
      "cell_type": "markdown",
      "metadata": {
        "id": "_V8qdTNb83bZ"
      },
      "source": [
        "> **The network architecture**"
      ]
    },
    {
      "cell_type": "code",
      "metadata": {
        "id": "A6_-xg8Q74fg"
      },
      "source": [
        "from tensorflow.keras import models\n",
        "from tensorflow.keras import layers"
      ],
      "execution_count": 8,
      "outputs": []
    },
    {
      "cell_type": "code",
      "metadata": {
        "id": "ekV63uXR9RTI"
      },
      "source": [
        "network = models.Sequential()\n",
        "network.add(layers.Dense(512, activation=\"relu\", input_shape=(28*28,)))\n",
        "network.add(layers.Dense(10, activation=\"softmax\"))"
      ],
      "execution_count": 9,
      "outputs": []
    },
    {
      "cell_type": "markdown",
      "metadata": {
        "id": "enNeVqNp9kav"
      },
      "source": [
        "The core building block of neural network is the `layer`, **data-processing** module that you can think of as a **filter for data**. Some data goes in, and it comes out in more useful form.\n",
        "\n",
        "Specifically, layers exteact **representations** out of the data feed into them hopefully from, representations that are more meaningful for the problem as hand.\n",
        "\n",
        "Most of deep learning consists of chaining together simple layers that will implement a form of progressive **data distillation**.\n",
        "\n",
        "A deep learning model is like a sieve for data processing, made of succession of increasingly refined data filters - the layers.\n",
        "- **Dense Layers**: Which are densely connected (also caleed **fully connected**) neural layers.\n",
        "    - The last layer is **10-way softmax** layer, which means it will return an array of 10 probability scores (summing to 1).\n",
        "\n",
        "        \\begin{equation}\n",
        "        \\sigma(z)_i  = \\frac{exp(z_i)}{\\sum_{j}^{ }exp(z_j))}\n",
        "        \\end{equation}\n",
        "        <p align=\"center\">\n",
        "        <img src=\"https://upload.wikimedia.org/wikipedia/commons/thumb/8/88/Logistic-curve.svg/1200px-Logistic-curve.svg.png\" width=\"700\" >\n",
        "        <figcaption align=\"center\">Fig1. Softmax</figcaption>\n",
        "        </p>\n",
        "        \n",
        "    - The last layer is **10-way softmax** layer, which means it will return an array of 10 probability scores (summing to 1).\n",
        "- To make the network ready for training, we need to pick three more things, as part of the **compilation** step:\n",
        "    - **Loss function** - How the network will be able to measure its performance on the training data, and thus how it will be able to steer itself in thr right direction.\n",
        "    - **Optimizer** - The mechanism through which the network will update itself based on the data it sees ans its **loss function**\n",
        "    - **Metrics to monitor during training and testing** - Here, we'll only care about accuracy(the fraction of the images that were correctly classified).\n"
      ]
    },
    {
      "cell_type": "markdown",
      "metadata": {
        "id": "WpWki2xASNNN"
      },
      "source": [
        "> **The compilation step**"
      ]
    },
    {
      "cell_type": "code",
      "metadata": {
        "id": "CnO7x6KC9jdo"
      },
      "source": [
        "network.compile(optimizer=\"rmsprop\", loss=\"categorical_crossentropy\", metrics=[\"accuracy\"])"
      ],
      "execution_count": 10,
      "outputs": []
    },
    {
      "cell_type": "markdown",
      "metadata": {
        "id": "Kw33MxUCSeOj"
      },
      "source": [
        "> **Preparing the image data**"
      ]
    },
    {
      "cell_type": "code",
      "metadata": {
        "id": "WsMY19bSSctt"
      },
      "source": [
        "train_images = train_images.reshape(60000, 28*28)\n",
        "train_images = train_images.astype(\"float32\")/255\n",
        "\n",
        "test_images = test_images.reshape(10000, 28*28)\n",
        "test_images = test_images.astype(\"float32\")/255"
      ],
      "execution_count": 11,
      "outputs": []
    },
    {
      "cell_type": "markdown",
      "metadata": {
        "id": "h0-uowYZTMFw"
      },
      "source": [
        "*We also need to categorically encode the labels, a step that's explained in chapter 3."
      ]
    },
    {
      "cell_type": "markdown",
      "metadata": {
        "id": "14p5LB9CTZkp"
      },
      "source": [
        "> **Preparing the labels**"
      ]
    },
    {
      "cell_type": "code",
      "metadata": {
        "id": "IjwHz0TQTZJR"
      },
      "source": [
        "from tensorflow.keras.utils import to_categorical"
      ],
      "execution_count": 12,
      "outputs": []
    },
    {
      "cell_type": "code",
      "metadata": {
        "id": "2yZBlqvdTpaO"
      },
      "source": [
        "train_labels = to_categorical(train_labels)\n",
        "test_labels = to_categorical(test_labels)"
      ],
      "execution_count": 13,
      "outputs": []
    },
    {
      "cell_type": "markdown",
      "metadata": {
        "id": "g79CCIdOTx5e"
      },
      "source": [
        "We're now ready to train the network, which in Keras is done to the network's fit method - we fit the model to its training data"
      ]
    },
    {
      "cell_type": "code",
      "metadata": {
        "id": "fl5UoZrjTxIH",
        "outputId": "d5a62358-acda-4f8d-c611-a14c67728083",
        "colab": {
          "base_uri": "https://localhost:8080/",
          "height": 204
        }
      },
      "source": [
        "network.fit(train_images, train_labels, epochs=5, batch_size=128)"
      ],
      "execution_count": 14,
      "outputs": [
        {
          "output_type": "stream",
          "text": [
            "Epoch 1/5\n",
            "469/469 [==============================] - 4s 9ms/step - loss: 0.2549 - accuracy: 0.9261\n",
            "Epoch 2/5\n",
            "469/469 [==============================] - 4s 9ms/step - loss: 0.1033 - accuracy: 0.9694\n",
            "Epoch 3/5\n",
            "469/469 [==============================] - 4s 9ms/step - loss: 0.0688 - accuracy: 0.9795\n",
            "Epoch 4/5\n",
            "469/469 [==============================] - 4s 9ms/step - loss: 0.0505 - accuracy: 0.9848\n",
            "Epoch 5/5\n",
            "469/469 [==============================] - 4s 9ms/step - loss: 0.0389 - accuracy: 0.9886\n"
          ],
          "name": "stdout"
        },
        {
          "output_type": "execute_result",
          "data": {
            "text/plain": [
              "<tensorflow.python.keras.callbacks.History at 0x7f20d3a12cf8>"
            ]
          },
          "metadata": {
            "tags": []
          },
          "execution_count": 14
        }
      ]
    },
    {
      "cell_type": "markdown",
      "metadata": {
        "id": "tldp1Iuac92i"
      },
      "source": [
        "# 2.2 Data representations for neural networks\n"
      ]
    },
    {
      "cell_type": "markdown",
      "metadata": {
        "id": "otUEtvFbX8CP"
      },
      "source": [
        "- Multidimensional NumPy arrays(**`tensors`**): Container for numbers.\n",
        "- In general, all current machine learning system use tensors as their **basic data structure**.\n",
        "- Tensors are a generalization of matrices to an arbitrary number of dimensions\n",
        "    - A **dimension** is often called an **axis**\n",
        "\n",
        "        <p align=\"center\">\n",
        "        <img src=\"https://cdn-images-1.medium.com/max/800/1*pUr-9ctuGamgjSwoW_KU-A.png\" width=\"700\" >\n",
        "        </p>\n"
      ]
    },
    {
      "cell_type": "markdown",
      "metadata": {
        "id": "6zO-fmy0dyHa"
      },
      "source": [
        "## 2.2.1 Scalars (0D Tensors)"
      ]
    },
    {
      "cell_type": "markdown",
      "metadata": {
        "id": "ERUlwlxHX4eB"
      },
      "source": [
        "- A tensor that contains only number.\n",
        "- In NumPy, a `float32` or `float64` number is a scalar tensor (or scalar array)\n",
        "- a scalar tensor has 0 axes (ndim == 0).\n",
        "- The number of axes of a tensor is also called its rank."
      ]
    },
    {
      "cell_type": "code",
      "metadata": {
        "id": "TFrt6kbnc6zz"
      },
      "source": [
        "import numpy as np"
      ],
      "execution_count": 15,
      "outputs": []
    },
    {
      "cell_type": "code",
      "metadata": {
        "id": "13b3KVC4eFSd"
      },
      "source": [
        "# Here's a NumPy scalar\n",
        "x = np.array(12)"
      ],
      "execution_count": 16,
      "outputs": []
    },
    {
      "cell_type": "code",
      "metadata": {
        "id": "f9UirQU2eIhh",
        "outputId": "d997ebdb-91b3-4713-e098-d4a5bdb037a4",
        "colab": {
          "base_uri": "https://localhost:8080/",
          "height": 34
        }
      },
      "source": [
        "x"
      ],
      "execution_count": 17,
      "outputs": [
        {
          "output_type": "execute_result",
          "data": {
            "text/plain": [
              "array(12)"
            ]
          },
          "metadata": {
            "tags": []
          },
          "execution_count": 17
        }
      ]
    },
    {
      "cell_type": "code",
      "metadata": {
        "id": "Pt-en3YGeJ6_",
        "outputId": "fed76fba-efea-44cf-ee68-85ac7c14025d",
        "colab": {
          "base_uri": "https://localhost:8080/",
          "height": 34
        }
      },
      "source": [
        "x.ndim"
      ],
      "execution_count": 18,
      "outputs": [
        {
          "output_type": "execute_result",
          "data": {
            "text/plain": [
              "0"
            ]
          },
          "metadata": {
            "tags": []
          },
          "execution_count": 18
        }
      ]
    },
    {
      "cell_type": "markdown",
      "metadata": {
        "id": "xI-qNJ2cemL_"
      },
      "source": [
        "## 2.2.2 Vector (1D tensors)"
      ]
    },
    {
      "cell_type": "markdown",
      "metadata": {
        "id": "H25CCc3jX1nF"
      },
      "source": [
        "- An array of numbers iss caleed a ***vector*** or ***1D tensor***\n",
        "- have one axis"
      ]
    },
    {
      "cell_type": "code",
      "metadata": {
        "id": "HCc8pSGDeM4e"
      },
      "source": [
        "x = np.array([12, 3, 6, 14])"
      ],
      "execution_count": 19,
      "outputs": []
    },
    {
      "cell_type": "code",
      "metadata": {
        "id": "jXPmF1anfJOE",
        "outputId": "cfbe74e4-6402-487f-8690-6a6a0d30b78d",
        "colab": {
          "base_uri": "https://localhost:8080/",
          "height": 34
        }
      },
      "source": [
        "x"
      ],
      "execution_count": 20,
      "outputs": [
        {
          "output_type": "execute_result",
          "data": {
            "text/plain": [
              "array([12,  3,  6, 14])"
            ]
          },
          "metadata": {
            "tags": []
          },
          "execution_count": 20
        }
      ]
    },
    {
      "cell_type": "code",
      "metadata": {
        "id": "4cyOPwYSfJux",
        "outputId": "04b57d46-8fc0-4479-ca90-b37bb96b2a3f",
        "colab": {
          "base_uri": "https://localhost:8080/",
          "height": 34
        }
      },
      "source": [
        "x.ndim"
      ],
      "execution_count": 21,
      "outputs": [
        {
          "output_type": "execute_result",
          "data": {
            "text/plain": [
              "1"
            ]
          },
          "metadata": {
            "tags": []
          },
          "execution_count": 21
        }
      ]
    },
    {
      "cell_type": "markdown",
      "metadata": {
        "id": "JrL2AErJfPfM"
      },
      "source": [
        "- This vector has five entries and so id called a ***5-dimensional vertor***.\n",
        "- Dont' confuse a **5D vector** with a **5D tensor**!\n",
        "    - 5D vector has only one axis and have five dimensions along its axis\n",
        "    - 5D tensor has five axis (and may have any number of dimensions along each axis).\n",
        "- **Dimensional** can denote either **the number of entries along a spaceific axis** or **the number of axes in tensor**"
      ]
    },
    {
      "cell_type": "markdown",
      "metadata": {
        "id": "rT-PAeY4iljH"
      },
      "source": [
        "## 2.2.3 Matrices (2D tensors)\n"
      ]
    },
    {
      "cell_type": "markdown",
      "metadata": {
        "id": "mqKi-K6yXyIA"
      },
      "source": [
        "- An array of vector is a ***matrix*** or ***2D tensor***.\n",
        "- has two axes (often referred to rows and columns)."
      ]
    },
    {
      "cell_type": "code",
      "metadata": {
        "id": "k5jUBTVmfKew"
      },
      "source": [
        "x = np.array([[5, 78, 2, 34, 0],\n",
        "              [6, 79, 3, 35, 1],\n",
        "              [7, 80, 4, 36, 2]])"
      ],
      "execution_count": 22,
      "outputs": []
    },
    {
      "cell_type": "code",
      "metadata": {
        "id": "dzNw8qNmSZP_",
        "outputId": "39b4e07d-dcfd-4c2e-8227-c761eef07fb5",
        "colab": {
          "base_uri": "https://localhost:8080/",
          "height": 34
        }
      },
      "source": [
        "x.ndim"
      ],
      "execution_count": 23,
      "outputs": [
        {
          "output_type": "execute_result",
          "data": {
            "text/plain": [
              "2"
            ]
          },
          "metadata": {
            "tags": []
          },
          "execution_count": 23
        }
      ]
    },
    {
      "cell_type": "markdown",
      "metadata": {
        "id": "AZ9tb4YlSdbj"
      },
      "source": [
        "- first axis are called the ***rows***.\n",
        "- second axis are called the ***columns***.\n",
        "\n",
        "In the previous example\n",
        "- `[5, 78, 2, 34, 0]` is the first row of x\n",
        "- `[5, 6, 7]` is the first column."
      ]
    },
    {
      "cell_type": "markdown",
      "metadata": {
        "id": "_qrAi17uXdmz"
      },
      "source": [
        "## 2.2.4 3D tensor and higher-dimensional tensors\n"
      ]
    },
    {
      "cell_type": "markdown",
      "metadata": {
        "id": "Z9XUTvt5S-W-"
      },
      "source": [
        "- pack of matrices in a ner array.\n",
        "- which you can visually interpret as a cube of numbers.\n",
        "![Screen Shot 2563-10-06 at 21.28.20.png](data:image/png;base64,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)\n",
        "\n"
      ]
    },
    {
      "cell_type": "code",
      "metadata": {
        "id": "K5StgbTzXbKN"
      },
      "source": [
        ""
      ],
      "execution_count": 23,
      "outputs": []
    },
    {
      "cell_type": "code",
      "metadata": {
        "id": "mhry1PrRSZ_6"
      },
      "source": [
        "x = np.array([\n",
        "              [[0, 1, 2, 3, 4],\n",
        "               [5, 6, 7, 8, 9]],\n",
        "              [[10, 11, 12, 13, 14],\n",
        "               [15, 16, 17, 18, 19]],\n",
        "              [[20, 21, 22, 23, 24],\n",
        "               [25, 26, 27, 28, 29]]\n",
        "             ])"
      ],
      "execution_count": 24,
      "outputs": []
    },
    {
      "cell_type": "code",
      "metadata": {
        "id": "ocylUxelWB2k",
        "outputId": "7b1968f0-9a88-40c5-dcb6-28ac28229e3a",
        "colab": {
          "base_uri": "https://localhost:8080/",
          "height": 34
        }
      },
      "source": [
        "x.ndim"
      ],
      "execution_count": 25,
      "outputs": [
        {
          "output_type": "execute_result",
          "data": {
            "text/plain": [
              "3"
            ]
          },
          "metadata": {
            "tags": []
          },
          "execution_count": 25
        }
      ]
    },
    {
      "cell_type": "markdown",
      "metadata": {
        "id": "oaGzaP64W0mo"
      },
      "source": [
        "> By packing 3D tensors in an array, you can create a 4D tensor, and so on. In deep learning, you'll generally manipulate tensors that are 0D to 4D, although you may go up to 5D if you process video data."
      ]
    },
    {
      "cell_type": "markdown",
      "metadata": {
        "id": "NrgChX8aXs11"
      },
      "source": [
        "## 2.2.5 Key attributes"
      ]
    },
    {
      "cell_type": "markdown",
      "metadata": {
        "id": "g6g3DpdWYE09"
      },
      "source": [
        "> A tensor is defined by three key attributes:\n",
        "- Number of axes (rank)\n",
        "- Shape\n",
        "- Data type (dtype in Python libraries)\n",
        "\n",
        "- tensor's type could be \n",
        "    - `float32`\n",
        "    - `uint8`\n",
        "    - `float64`"
      ]
    },
    {
      "cell_type": "markdown",
      "metadata": {
        "id": "7CLdxhNOZSaL"
      },
      "source": [
        "> **let's look back at the date**\n"
      ]
    },
    {
      "cell_type": "markdown",
      "metadata": {
        "id": "vFEbonOlZfcJ"
      },
      "source": [
        "We processed in `MNIST dataset` example. First, we load the `MNIST dataset`"
      ]
    },
    {
      "cell_type": "code",
      "metadata": {
        "id": "-91xfffqWq9h"
      },
      "source": [
        "from tensorflow.keras.datasets import mnist\n",
        "\n",
        "(train_images, train_labels), (test_images, test_labels) = mnist.load_data()"
      ],
      "execution_count": 26,
      "outputs": []
    },
    {
      "cell_type": "markdown",
      "metadata": {
        "id": "T0NuCMNeZwhi"
      },
      "source": [
        "Next, we display the numeber of `axes` of the tensor `train_images`"
      ]
    },
    {
      "cell_type": "code",
      "metadata": {
        "id": "6Fa0ITkoZvPH",
        "outputId": "1700c45a-3723-4a75-a1bf-73a53afb32a7",
        "colab": {
          "base_uri": "https://localhost:8080/",
          "height": 34
        }
      },
      "source": [
        "# the ndim attribute\n",
        "train_images.ndim"
      ],
      "execution_count": 27,
      "outputs": [
        {
          "output_type": "execute_result",
          "data": {
            "text/plain": [
              "3"
            ]
          },
          "metadata": {
            "tags": []
          },
          "execution_count": 27
        }
      ]
    },
    {
      "cell_type": "code",
      "metadata": {
        "id": "5nGGbMAkZ9Dm",
        "outputId": "1dd48108-4218-4e7a-c0e7-781a93531b92",
        "colab": {
          "base_uri": "https://localhost:8080/",
          "height": 34
        }
      },
      "source": [
        "# here's its shape\n",
        "train_images.shape"
      ],
      "execution_count": 28,
      "outputs": [
        {
          "output_type": "execute_result",
          "data": {
            "text/plain": [
              "(60000, 28, 28)"
            ]
          },
          "metadata": {
            "tags": []
          },
          "execution_count": 28
        }
      ]
    },
    {
      "cell_type": "code",
      "metadata": {
        "id": "GNmTA-GiaCi7",
        "outputId": "96a857f9-8c4b-4884-c409-286a77f267da",
        "colab": {
          "base_uri": "https://localhost:8080/",
          "height": 34
        }
      },
      "source": [
        "# data type(dtype)\n",
        "train_images.dtype"
      ],
      "execution_count": 29,
      "outputs": [
        {
          "output_type": "execute_result",
          "data": {
            "text/plain": [
              "dtype('uint8')"
            ]
          },
          "metadata": {
            "tags": []
          },
          "execution_count": 29
        }
      ]
    },
    {
      "cell_type": "markdown",
      "metadata": {
        "id": "EVWWKTLWaMlz"
      },
      "source": [
        "So what we have here is a `3D tensor` of `8-bit integers`\n",
        "\n",
        "- it's an array of 60,000 matrices of 28x28 integers.\n",
        "- Each such matrix is a grayscale image, with coefficients between 0 and 255."
      ]
    },
    {
      "cell_type": "markdown",
      "metadata": {
        "id": "nkLWcz1Uav8X"
      },
      "source": [
        "> **Let's display the fourth digit in this 3D tensor**"
      ]
    },
    {
      "cell_type": "code",
      "metadata": {
        "id": "Hr29ZRVZbZuX"
      },
      "source": [
        "import matplotlib.pyplot as plt"
      ],
      "execution_count": 30,
      "outputs": []
    },
    {
      "cell_type": "code",
      "metadata": {
        "id": "V9_Kwr0_aK_a",
        "outputId": "695d0723-dc10-4183-a4de-193afb6b21e4",
        "colab": {
          "base_uri": "https://localhost:8080/",
          "height": 265
        }
      },
      "source": [
        "digit = train_images[4]\n",
        "plt.imshow(digit, cmap=plt.cm.binary)\n",
        "plt.show()"
      ],
      "execution_count": 31,
      "outputs": [
        {
          "output_type": "display_data",
          "data": {
            "image/png": "[encoded data removed]",
            "text/plain": [
              "<Figure size 432x288 with 1 Axes>"
            ]
          },
          "metadata": {
            "tags": [],
            "needs_background": "light"
          }
        }
      ]
    },
    {
      "cell_type": "markdown",
      "metadata": {
        "id": "iS7VzcmPblGI"
      },
      "source": [
        "## 2.2.6 Manipulating tensors in NumPy"
      ]
    },
    {
      "cell_type": "code",
      "metadata": {
        "id": "_vnuRpaEbbe8",
        "outputId": "a25d2c1c-4398-40fa-a6e5-dbd17531696e",
        "colab": {
          "base_uri": "https://localhost:8080/",
          "height": 34
        }
      },
      "source": [
        "# tensor slicing selects digits #10 to #100 (#100 is'n included)\n",
        "my_slice = train_images[10:100]\n",
        "my_slice.shape"
      ],
      "execution_count": 32,
      "outputs": [
        {
          "output_type": "execute_result",
          "data": {
            "text/plain": [
              "(90, 28, 28)"
            ]
          },
          "metadata": {
            "tags": []
          },
          "execution_count": 32
        }
      ]
    },
    {
      "cell_type": "markdown",
      "metadata": {
        "id": "AdekgiQycL2t"
      },
      "source": [
        "It's equivalent to this more detailed nation\n",
        "- specifies a start index and stop index for slice along each tensor axis.\n",
        "\n",
        "***Note that `:` is equivalent to selecting the entire axis:**"
      ]
    },
    {
      "cell_type": "code",
      "metadata": {
        "id": "wSuFjksIb-UI",
        "outputId": "754d6cf1-0c5e-413e-a3da-55abed9e24f2",
        "colab": {
          "base_uri": "https://localhost:8080/",
          "height": 34
        }
      },
      "source": [
        "# Equivalent to the previous example\n",
        "my_slice = train_images[10:100, :, :]\n",
        "my_slice.shape"
      ],
      "execution_count": 33,
      "outputs": [
        {
          "output_type": "execute_result",
          "data": {
            "text/plain": [
              "(90, 28, 28)"
            ]
          },
          "metadata": {
            "tags": []
          },
          "execution_count": 33
        }
      ]
    },
    {
      "cell_type": "code",
      "metadata": {
        "id": "Dz-tPYLLcwxk",
        "outputId": "85a4c4bb-9838-4b4a-ba62-ed433cff30c8",
        "colab": {
          "base_uri": "https://localhost:8080/",
          "height": 34
        }
      },
      "source": [
        "# Also equivalent to the previous example\n",
        "my_slice = train_images[10:100, 0:28, 0:28]\n",
        "my_slice.shape"
      ],
      "execution_count": 34,
      "outputs": [
        {
          "output_type": "execute_result",
          "data": {
            "text/plain": [
              "(90, 28, 28)"
            ]
          },
          "metadata": {
            "tags": []
          },
          "execution_count": 34
        }
      ]
    },
    {
      "cell_type": "markdown",
      "metadata": {
        "id": "aYh1bCbTdH29"
      },
      "source": [
        "In genral, you may select between any two indices alnog axis."
      ]
    },
    {
      "cell_type": "code",
      "metadata": {
        "id": "0FUXJPesdFfE"
      },
      "source": [
        "# select 14x14 pixels in the bottom-right corner of all images\n",
        "my_slice = train_images[:, 14:, 14:]"
      ],
      "execution_count": 35,
      "outputs": []
    },
    {
      "cell_type": "code",
      "metadata": {
        "id": "HJ1fEIODdbuD"
      },
      "source": [
        "# negative indices\n",
        "my_slice = train_images[:, 7:-7, 7:-7]"
      ],
      "execution_count": 36,
      "outputs": []
    },
    {
      "cell_type": "markdown",
      "metadata": {
        "id": "QOQu0GdCdl3G"
      },
      "source": [
        "## 2.2.7 The notion of data batches"
      ]
    },
    {
      "cell_type": "markdown",
      "metadata": {
        "id": "HmUu_VLgrO8I"
      },
      "source": [
        "> In general, the first axis (axis 0) is all data tensors you'll come across in deep learning will be the ***samples axis (samples dimension)***\n",
        "\n",
        "> In addition, deep learning models don't processs an entire dataset at one\n",
        " - They break the data into small **batches**."
      ]
    },
    {
      "cell_type": "code",
      "metadata": {
        "id": "DBu2wdDHsILQ"
      },
      "source": [
        "# batch size of 128\n",
        "batch = train_images[:128]"
      ],
      "execution_count": 37,
      "outputs": []
    },
    {
      "cell_type": "code",
      "metadata": {
        "id": "bkS7jAjhsRX-"
      },
      "source": [
        "# And here's the next batch\n",
        "batch = train_images[128:256]"
      ],
      "execution_count": 38,
      "outputs": []
    },
    {
      "cell_type": "code",
      "metadata": {
        "id": "LwX2w2B_sYpC"
      },
      "source": [
        "# And the n batch\n",
        "batch = train_images[128*n:128(n*+1)]"
      ],
      "execution_count": null,
      "outputs": []
    },
    {
      "cell_type": "markdown",
      "metadata": {
        "id": "cYL6BzNxsm9t"
      },
      "source": [
        "When considering such a batch tensor, the first axis (axis 0) is called the **batch axis** or batch dimension"
      ]
    },
    {
      "cell_type": "markdown",
      "metadata": {
        "id": "kMQy8tOhs8_7"
      },
      "source": [
        "## 2.2.8 Real-world example of data tensors"
      ]
    },
    {
      "cell_type": "markdown",
      "metadata": {
        "id": "GXwf1BP5tDRw"
      },
      "source": [
        "- **Vector data** : 2D tensor of shape ***(samples, features)***\n",
        "- **Time-series data** or **Sequence data** : 3D tensors of shape ***(samples, timesteps, features)***\n",
        "- **Image** : 4D tensors of shape ***(samples, height, width, channels)*** or ***(samples, channels, height, width)***\n",
        "- **Video** : 5D tensors of shape ***(samples, frames, height, width, channels)*** or ***(samples, frames, channels, height, width)***"
      ]
    },
    {
      "cell_type": "markdown",
      "metadata": {
        "id": "TF6QdQtluCDb"
      },
      "source": [
        "## 2.2.9 Vector data"
      ]
    },
    {
      "cell_type": "markdown",
      "metadata": {
        "id": "BvtwmzrruFiN"
      },
      "source": [
        "> This is the most **common case**. In such a dataset, each single data point can be encoded as a **vector**, and thus a **batch of data** will be encoded as a 2D tensor (that is, an array of vectors).\n",
        "\n",
        "**Examples**\n",
        "- Dataset of people, where we consider each **person's age**, **ZIP code**, and **income**.\n",
        "    - Each person can be characterized as a **vector of 3 values**.\n",
        "    - Dataset of **100,000 people**.\n",
        "    - Stored in a 2D tensor of shape **(100000, 3)**.\n",
        "- Dataset of text documents, where we represent each document by the counts of **how many times each word appears in it** **(out of a dictionary of 20,000 common words)**\n",
        "    - Each document can be encoded as a vector of 20,000 values (one count per word in the dictionary).\n",
        "    - Dataset of 500 documents.\n",
        "    - Stored in a tensor of shape (500, 20000)."
      ]
    },
    {
      "cell_type": "markdown",
      "metadata": {
        "id": "wIh_Gzzav5W7"
      },
      "source": [
        "## 2.2.10 Time-series data or sequence data\n"
      ]
    },
    {
      "cell_type": "markdown",
      "metadata": {
        "id": "boQ44tm5y3R4"
      },
      "source": [
        "> Whenever time matters in your data (or **the notion of sequence order**), it makes sense to store it in a 3D tensor with an explicit **time axis**.\n",
        "\n",
        "\n",
        "<p align=\"center\">\n",
        "        <img src=\"https://miro.medium.com/max/1240/1*YnGyWhlkVc88XYOvvQ1QbA.png\" width=\"700\" >\n",
        "        </p>\n",
        "\n",
        "> The time axis is always the **second axis (axis 1)**\n",
        "\n",
        "**Examples**\n",
        "- A dataset of stock prices.\n",
        "    - Every minute, we store the current price of the stock, the highest price in the past minute\n",
        "    - The lowest price in the past minute.\n",
        "    - Thus every minute is encoded as a 3D vertor\n",
        "        - an ertire day of trading is encoded as a 2D tensor of shape **(390, 3)** **(there are 390 minutes in a trading day)**\n",
        "    - And 250 day's worth of data can be stored in a 3D tensor of shape **(250, 390, 3)**\n",
        "    - ***Here, each sample would be one day's worth of data.**\n",
        "- A dataset of tweets\n",
        "    - da\n"
      ]
    },
    {
      "cell_type": "markdown",
      "metadata": {
        "id": "W0KoUHJCyq1D"
      },
      "source": [
        "## 2.2.11 Image data"
      ]
    },
    {
      "cell_type": "markdown",
      "metadata": {
        "id": "rFDWgXMSyuS5"
      },
      "source": [
        "## 2.2.12 Video data\n"
      ]
    },
    {
      "cell_type": "markdown",
      "metadata": {
        "id": "ZpP7r2WXdzQX"
      },
      "source": [
        "# 2.3 The gears of neural networks: tensor operations"
      ]
    },
    {
      "cell_type": "markdown",
      "metadata": {
        "id": "pPzqbt1fd65S"
      },
      "source": [
        "# 2.4 The engine of neural networks: gradient-base optimization"
      ]
    },
    {
      "cell_type": "markdown",
      "metadata": {
        "id": "_rP60GbfeDJA"
      },
      "source": [
        "# 2.5 Looking back at our first example"
      ]
    },
    {
      "cell_type": "markdown",
      "metadata": {
        "id": "ctF2HMLXeKe3"
      },
      "source": [
        "# Chapter summary"
      ]
    }
  ]
}