{
  "nbformat": 4,
  "nbformat_minor": 0,
  "metadata": {
    "colab": {
      "name": "2. Before we begin: the mathematical building blocks of neural networks.ipynb",
      "provenance": [],
      "authorship_tag": "ABX9TyOOVjj8b/2rlKYNzE7kWniw",
      "include_colab_link": true
    },
    "kernelspec": {
      "name": "python3",
      "display_name": "Python 3"
    }
  },
  "cells": [
    {
      "cell_type": "markdown",
      "metadata": {
        "id": "view-in-github",
        "colab_type": "text"
      },
      "source": [
        "<a href=\"https://colab.research.google.com/github/Jetsukda/Deep-Learning-with-Python/blob/main/2.%20Before%20we%20begin%3A%20the%20mathematical%20building%20blocks%20of%20neural%20networks.ipynb\" target=\"_parent\"><img src=\"https://colab.research.google.com/assets/colab-badge.svg\" alt=\"Open In Colab\"/></a>"
      ]
    },
    {
      "cell_type": "markdown",
      "metadata": {
        "id": "T-wKZ8pa4JI2"
      },
      "source": [
        "# 2.1 A first look at a neural network\n",
        "\n",
        ">Note on **classes** and **labels**\n",
        "\n",
        "- In machine learning, a **category** in a classification problem is called a ***class***.\n",
        "- **Data points** are called ***samples***.\n",
        "- The **class associated** with a  specific sample is called a ***label***.\n",
        "\n",
        "Let's look at a concrete example of neural network that uses the Python library Keras to learn to classify handwritten digits. Unless you already have experience with Keras or similar libaries, you won't understand everything about this first example tight away."
      ]
    },
    {
      "cell_type": "markdown",
      "metadata": {
        "id": "lCsTvOq55M-h"
      },
      "source": [
        "**Loading the MNIST dataset in Keras**"
      ]
    },
    {
      "cell_type": "code",
      "metadata": {
        "id": "VI5aL30W33gI",
        "outputId": "b990ca80-a2e2-4aed-892b-fd7d9e4ba7a7",
        "colab": {
          "base_uri": "https://localhost:8080/",
          "height": 51
        }
      },
      "source": [
        "from tensorflow.keras.datasets import mnist\n",
        "\n",
        "(train_images, train_labels), (test_images, test_labels) = mnist.load_data()"
      ],
      "execution_count": 2,
      "outputs": [
        {
          "output_type": "stream",
          "text": [
            "Downloading data from https://storage.googleapis.com/tensorflow/tf-keras-datasets/mnist.npz\n",
            "11493376/11490434 [==============================] - 0s 0us/step\n"
          ],
          "name": "stdout"
        }
      ]
    },
    {
      "cell_type": "markdown",
      "metadata": {
        "id": "WD75waSZ54_O"
      },
      "source": [
        "\n",
        "- `train_images` and `train_labels` form **training set**\n",
        "- `test_images` and `test_images` form **test set**\n",
        "- The images are encoded as NumPy arrays, and the labels are an array of digits, ranging from 0 to 9.\n",
        "- The images and labels have one-to-one correspondence."
      ]
    },
    {
      "cell_type": "code",
      "metadata": {
        "id": "ZbdoXApU5jDh",
        "outputId": "789520bd-eacd-4338-abaa-c8bfa4c7a4ea",
        "colab": {
          "base_uri": "https://localhost:8080/",
          "height": 34
        }
      },
      "source": [
        "# (number of image, rows, cols) -> row x col = images size = 28x28 Pixel.\n",
        "train_images.shape"
      ],
      "execution_count": 3,
      "outputs": [
        {
          "output_type": "execute_result",
          "data": {
            "text/plain": [
              "(60000, 28, 28)"
            ]
          },
          "metadata": {
            "tags": []
          },
          "execution_count": 3
        }
      ]
    },
    {
      "cell_type": "code",
      "metadata": {
        "id": "4c5Q3oEH6YMb",
        "outputId": "43fec1ad-7915-4573-844e-d8f0f29f5199",
        "colab": {
          "base_uri": "https://localhost:8080/",
          "height": 34
        }
      },
      "source": [
        "# 60,000 images.\n",
        "len(train_images)"
      ],
      "execution_count": 4,
      "outputs": [
        {
          "output_type": "execute_result",
          "data": {
            "text/plain": [
              "60000"
            ]
          },
          "metadata": {
            "tags": []
          },
          "execution_count": 4
        }
      ]
    },
    {
      "cell_type": "code",
      "metadata": {
        "id": "DUeQMSFg6aut",
        "outputId": "0e3d8d24-3cbe-4c4e-d2e8-ed48661622be",
        "colab": {
          "base_uri": "https://localhost:8080/",
          "height": 34
        }
      },
      "source": [
        "# labels range from 0 to 9.\n",
        "train_labels"
      ],
      "execution_count": 6,
      "outputs": [
        {
          "output_type": "execute_result",
          "data": {
            "text/plain": [
              "array([5, 0, 4, ..., 5, 6, 8], dtype=uint8)"
            ]
          },
          "metadata": {
            "tags": []
          },
          "execution_count": 6
        }
      ]
    },
    {
      "cell_type": "markdown",
      "metadata": {
        "id": "qoxbVN3B7oXZ"
      },
      "source": [
        "And here's the test data"
      ]
    },
    {
      "cell_type": "code",
      "metadata": {
        "id": "f3p2kOFM6bzL",
        "outputId": "907ccc65-a42d-4c12-9e60-55f1aa5ea83f",
        "colab": {
          "base_uri": "https://localhost:8080/",
          "height": 34
        }
      },
      "source": [
        "# (number of image, rows, cols) -> row x col = images size = 28x28 Pixel.\n",
        "test_images.shape"
      ],
      "execution_count": 8,
      "outputs": [
        {
          "output_type": "execute_result",
          "data": {
            "text/plain": [
              "(10000, 28, 28)"
            ]
          },
          "metadata": {
            "tags": []
          },
          "execution_count": 8
        }
      ]
    },
    {
      "cell_type": "code",
      "metadata": {
        "id": "sCdYDsp67xkI",
        "outputId": "b4b729e3-c75d-4cfe-9316-c704a1b5e4bf",
        "colab": {
          "base_uri": "https://localhost:8080/",
          "height": 34
        }
      },
      "source": [
        "# 10,000 images.\n",
        "len(test_images)"
      ],
      "execution_count": 9,
      "outputs": [
        {
          "output_type": "execute_result",
          "data": {
            "text/plain": [
              "10000"
            ]
          },
          "metadata": {
            "tags": []
          },
          "execution_count": 9
        }
      ]
    },
    {
      "cell_type": "code",
      "metadata": {
        "id": "up95EPaM72CN",
        "outputId": "fb3efbee-6e1a-4034-eb8f-88f91821c139",
        "colab": {
          "base_uri": "https://localhost:8080/",
          "height": 34
        }
      },
      "source": [
        "# labels range from 0 to 9.\n",
        "test_labels"
      ],
      "execution_count": 10,
      "outputs": [
        {
          "output_type": "execute_result",
          "data": {
            "text/plain": [
              "array([7, 2, 1, ..., 4, 5, 6], dtype=uint8)"
            ]
          },
          "metadata": {
            "tags": []
          },
          "execution_count": 10
        }
      ]
    },
    {
      "cell_type": "markdown",
      "metadata": {
        "id": "cz_6Guvs8IYr"
      },
      "source": [
        "**The workflow will be as follows**:\n",
        "- First, we'll feed the neural network the training data, `train_images`, `train_labels`.\n",
        "- The network will then learn to associate images and labels.\n",
        "- Finally, we'll ask the network to product predictions for `test_images`, and we'll verify whether these predictions match the labels from `test_labels`."
      ]
    },
    {
      "cell_type": "markdown",
      "metadata": {
        "id": "_V8qdTNb83bZ"
      },
      "source": [
        "**The network architecture**"
      ]
    },
    {
      "cell_type": "code",
      "metadata": {
        "id": "A6_-xg8Q74fg"
      },
      "source": [
        "from tensorflow.keras import models\n",
        "from tensorflow.keras import layers"
      ],
      "execution_count": 11,
      "outputs": []
    },
    {
      "cell_type": "code",
      "metadata": {
        "id": "ekV63uXR9RTI"
      },
      "source": [
        "network = models.Sequential()\n",
        "network.add(layers.Dense(512, activation=\"relu\", input_shape=(28*28,)))\n",
        "network.add(layers.Dense(10, activation=\"softmax\"))"
      ],
      "execution_count": 12,
      "outputs": []
    },
    {
      "cell_type": "markdown",
      "metadata": {
        "id": "enNeVqNp9kav"
      },
      "source": [
        "The core building block of neural network is the `layer`, **data-processing** module that you can think of as a **filter for data**. Some data goes in, and it comes out in more useful form.\n",
        "\n",
        "Specifically, layers exteact **representations** out of the data feed into them hopefully from, representations that are more meaningful for the problem as hand.\n",
        "\n",
        "Most of deep learning consists of chaining together simple layers that will implement a form of progressive **data distillation**.\n",
        "\n",
        "A deep learning model is like a sieve for data processing, made of succession of increasingly refined data filters - the layers.\n",
        "- **Dense Layers**: Which are densely connected (also caleed **fully connected**) neural layers.\n",
        "    - The last layer is **10-way softmax** layer, which means it will return an array of 10 probability scores (summing to 1).\n",
        "\n",
        "        \\begin{equation}\n",
        "        \\sigma(z)_i  = \\frac{exp(z_i)}{\\sum_{j}^{ }exp(z_j))}\n",
        "        \\end{equation}\n",
        "        <p align=\"center\">\n",
        "        <img src=\"https://upload.wikimedia.org/wikipedia/commons/thumb/8/88/Logistic-curve.svg/1200px-Logistic-curve.svg.png\" width=\"700\">\n",
        "        </p>\n",
        "        \n",
        "    - The last layer is **10-way softmax** layer, which means it will return an array of 10 probability scores (summing to 1).\n",
        "- To make the network ready for training, we need to pick three more things, as part of the **compilation** step:\n",
        "    - **Loss function** - How the network will be able to measure its performance on the training data, and thus how it will be able to steer itself in thr right direction.\n"
      ]
    },
    {
      "cell_type": "code",
      "metadata": {
        "id": "CnO7x6KC9jdo"
      },
      "source": [
        ""
      ],
      "execution_count": null,
      "outputs": []
    }
  ]
}